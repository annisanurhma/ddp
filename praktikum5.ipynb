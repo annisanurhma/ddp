{
  "nbformat": 4,
  "nbformat_minor": 0,
  "metadata": {
    "colab": {
      "provenance": [],
      "authorship_tag": "ABX9TyM/2ochNjgS9DFroKCxJ/Ev",
      "include_colab_link": true
    },
    "kernelspec": {
      "name": "python3",
      "display_name": "Python 3"
    },
    "language_info": {
      "name": "python"
    }
  },
  "cells": [
    {
      "cell_type": "markdown",
      "metadata": {
        "id": "view-in-github",
        "colab_type": "text"
      },
      "source": [
        "<a href=\"https://colab.research.google.com/github/annisanurhma/ddp/blob/main/praktikum5.ipynb\" target=\"_parent\"><img src=\"https://colab.research.google.com/assets/colab-badge.svg\" alt=\"Open In Colab\"/></a>"
      ]
    },
    {
      "cell_type": "code",
      "execution_count": null,
      "metadata": {
        "colab": {
          "base_uri": "https://localhost:8080/"
        },
        "id": "mrZcGOOR30f6",
        "outputId": "f7dbe5fe-53af-4612-ce8a-d105a86aaa91"
      },
      "outputs": [
        {
          "output_type": "stream",
          "name": "stdout",
          "text": [
            "['Beat Esp', 'motor', 200, 'putih', 2]\n",
            "['Beat Esp', 'motor', 200, 'putih', 2, 18000000, 'metic']\n",
            "['Beat Esp', 'motor', 'Honda', 200, 'putih', 2, 18000000, 'metic']\n"
          ]
        }
      ],
      "source": [
        "namaKendaraan = \"Beat Esp\"\n",
        "jenisKendaraan = \"motor\"\n",
        "ccKendaraan = 200\n",
        "warnaKendaraan = \"putih\"\n",
        "rodaKendaraan = 2\n",
        "\n",
        "data_kendaraan = [namaKendaraan, jenisKendaraan, ccKendaraan, warnaKendaraan, rodaKendaraan]\n",
        "print(data_kendaraan)\n",
        "hargaKendaraan = 18000000\n",
        "tipeKendaraan = \"metic\"\n",
        "\n",
        "data_kendaraan.append(hargaKendaraan)\n",
        "data_kendaraan.append(tipeKendaraan)\n",
        "print(data_kendaraan)\n",
        "\n",
        "merkKendaraan = \"Honda\"\n",
        "data_kendaraan.insert(2, merkKendaraan)\n",
        "print(data_kendaraan)"
      ]
    },
    {
      "cell_type": "code",
      "source": [
        "pilihan = input(\"\"\"\n",
        "Silahkan pilih menu yang di inginkan\n",
        "♡♡♡♡♡♡♡♡♡♡♡♡♡♡♡♡♡♡♡♡♡♡♡♡♡♡♡♡♡♡♡\n",
        "1. luas persegi\n",
        "2. luas lingkaran\n",
        "3. luas segitiga\n",
        "Kirimkan hanya angka saja,\n",
        "jawaban = \"\"\")\n",
        "\n",
        "match pilihan :\n",
        " case \"1\":\n",
        " #Luas Persegi\n",
        "  sisi = int(input(\"sisi = \"))\n",
        "  luas = sisi*sisi\n",
        "\n",
        "  print(f\"luas persegi dengan sisi {sisi} adalah {luas}\")\n",
        "\n",
        " case \"2\":\n",
        "  jari_jari = int(input(\"jari_jari = \"))\n",
        "  luas = 3.14*jari_jari**2\n",
        "  print(f\"luas lingkaran dengan jari_jari {jari_jari} adalah {luas}\")\n",
        "  #Luas Lingkaran\n",
        "  #luas = phi *jarijari**2\n",
        "\n",
        " case \"3\":\n",
        "#Luas Segitiga\n",
        "  alas = float(input(\"masukan panjang alas segitiga\"))\n",
        "  tinggi = float(input(\"masukkan tinggi segitiga\"))\n",
        "  luas = (alas * tinggi)/2\n",
        "  print(f\"luas segitiga adalah: {luas: .2f}\")"
      ],
      "metadata": {
        "colab": {
          "base_uri": "https://localhost:8080/"
        },
        "id": "aOv3KO5-9PUf",
        "outputId": "7e56ec9f-0219-4b63-981b-b60c0ce0f838"
      },
      "execution_count": null,
      "outputs": [
        {
          "output_type": "stream",
          "name": "stdout",
          "text": [
            "\n",
            "Silahkan pilih menu yang di inginkan\n",
            "♡♡♡♡♡♡♡♡♡♡♡♡♡♡♡♡♡♡♡♡♡♡♡♡♡♡♡♡♡♡♡\n",
            "1. luas persegi\n",
            "2. luas lingkaran\n",
            "3. luas segitiga\n",
            "Kirimkan hanya angka saja, \n",
            "jawaban = 2\n",
            "jari_jari = 21\n",
            "luas lingkaran dengan jari_jari 21 adalah 1384.74\n"
          ]
        }
      ]
    }
  ]
}